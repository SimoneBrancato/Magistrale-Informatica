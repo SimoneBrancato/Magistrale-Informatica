{
  "nbformat": 4,
  "nbformat_minor": 0,
  "metadata": {
    "colab": {
      "provenance": [],
      "authorship_tag": "ABX9TyPnjYbiZs6w+VcW9vijAsCa",
      "include_colab_link": true
    },
    "kernelspec": {
      "name": "python3",
      "display_name": "Python 3"
    },
    "language_info": {
      "name": "python"
    }
  },
  "cells": [
    {
      "cell_type": "markdown",
      "metadata": {
        "id": "view-in-github",
        "colab_type": "text"
      },
      "source": [
        "<a href=\"https://colab.research.google.com/github/SimoneBrancato/Magistrale-Informatica/blob/main/Simone/0103%20Big%20Data/Homework1.ipynb\" target=\"_parent\"><img src=\"https://colab.research.google.com/assets/colab-badge.svg\" alt=\"Open In Colab\"/></a>"
      ]
    },
    {
      "cell_type": "markdown",
      "source": [
        "# Esercizio (consegna il 7 aprile 2025)\n",
        "Scaricare i dati disponibili a questo url: amazon reviews o questo amazon review dropbox\n",
        "Il dataset è composto da due file: train and test in csv. Ogni file contiene le seguenti informazioni\n",
        "\n",
        "polarity - 1 for negative and 2 for positive\n",
        "title - review heading\n",
        "text - review body\n",
        "\n",
        "Generare i vettori sparsi applicando il q-shingle ai dati di training con q=3.\n",
        "Sui vettori sparsi Applicare il MinHashing LSH sul dataset di training.\n",
        "\n",
        "Usare il file di testing e applicare una k-nearest neighbor con i dati di testing su cui è stato applicato l'hashing. Usare k=3 e classificare l'elemento con del test set con la polarità maggiormente presente.\n",
        "\n",
        "*Identificare i cluster di recensioni. Ogni cluster di recensione contiene le coppie di recensioni che hanno una similarità > di 0.6. Da svolgere dopo l'introduzione alle network"
      ],
      "metadata": {
        "id": "DzFUFAppLexN"
      }
    },
    {
      "cell_type": "code",
      "execution_count": 1,
      "metadata": {
        "id": "4hY_Wq-EFlpn",
        "colab": {
          "base_uri": "https://localhost:8080/"
        },
        "outputId": "5e8fcea0-519d-4c72-bb06-df433d1f54cd"
      },
      "outputs": [
        {
          "output_type": "stream",
          "name": "stdout",
          "text": [
            "Downloading from https://www.kaggle.com/api/v1/datasets/download/kritanjalijain/amazon-reviews?dataset_version_number=2...\n"
          ]
        },
        {
          "output_type": "stream",
          "name": "stderr",
          "text": [
            "100%|██████████| 1.29G/1.29G [00:44<00:00, 31.4MB/s]"
          ]
        },
        {
          "output_type": "stream",
          "name": "stdout",
          "text": [
            "Extracting files...\n"
          ]
        },
        {
          "output_type": "stream",
          "name": "stderr",
          "text": [
            "\n"
          ]
        },
        {
          "output_type": "stream",
          "name": "stdout",
          "text": [
            "Path to dataset files: /root/.cache/kagglehub/datasets/kritanjalijain/amazon-reviews/versions/2\n"
          ]
        }
      ],
      "source": [
        "import kagglehub\n",
        "\n",
        "path = kagglehub.dataset_download(\"kritanjalijain/amazon-reviews\")\n",
        "\n",
        "print(\"Path to dataset files:\", path)"
      ]
    },
    {
      "cell_type": "code",
      "source": [
        "import pandas as pd\n",
        "import os\n",
        "\n",
        "print(\"File: \", os.listdir(path))"
      ],
      "metadata": {
        "colab": {
          "base_uri": "https://localhost:8080/"
        },
        "id": "kv-jUoWFL1iz",
        "outputId": "14cfd6eb-d060-4aae-c867-cc6486e99084"
      },
      "execution_count": 2,
      "outputs": [
        {
          "output_type": "stream",
          "name": "stdout",
          "text": [
            "File:  ['amazon_review_polarity_csv.tgz', 'test.csv', 'train.csv']\n"
          ]
        }
      ]
    },
    {
      "cell_type": "code",
      "source": [
        "q = 3\n",
        "\n",
        "def shingle(text: str, k: int):\n",
        "    shingle_set = []\n",
        "    for i in range(len(text) - k+1):\n",
        "        shingle_set.append(text[i:i+k])\n",
        "    return set(shingle_set)"
      ],
      "metadata": {
        "id": "oukAICJ1UaSJ"
      },
      "execution_count": 3,
      "outputs": []
    },
    {
      "cell_type": "code",
      "source": [
        "train_df = pd.read_csv(\"/root/.cache/kagglehub/datasets/kritanjalijain/amazon-reviews/versions/2/train.csv\", header=None, names=[\"polarity\", \"title\", \"text\"])\n",
        "test_df = pd.read_csv(\"/root/.cache/kagglehub/datasets/kritanjalijain/amazon-reviews/versions/2/test.csv\", header=None, names=[\"polarity\", \"title\", \"text\"])"
      ],
      "metadata": {
        "id": "XUwgiq8vVNIb"
      },
      "execution_count": 4,
      "outputs": []
    },
    {
      "cell_type": "code",
      "source": [
        "shingles_list= []\n",
        "\n",
        "for _,row in train_df.iloc[:100].iterrows():\n",
        "  full_text = f\"{row['title']} {row['text']}\"\n",
        "  record_shingles = shingle(full_text, q)\n",
        "  shingles_list.append(record_shingles)\n"
      ],
      "metadata": {
        "id": "mSb45Fo4Vi8I"
      },
      "execution_count": 16,
      "outputs": []
    },
    {
      "cell_type": "code",
      "source": [
        "# Mostriamo solo i primi 5, e massimo 10 shingle per vettore\n",
        "for shingles in shingles_list[:5]:\n",
        "    print(\"Shingles:\", list(shingles)[:10])\n",
        "    print(\"-----\")"
      ],
      "metadata": {
        "colab": {
          "base_uri": "https://localhost:8080/"
        },
        "id": "wUXXlkPCXHon",
        "outputId": "2ed122aa-4ec8-4d37-cb8a-7ec973240aa6"
      },
      "execution_count": 25,
      "outputs": [
        {
          "output_type": "stream",
          "name": "stdout",
          "text": [
            "Shingles: ['end', 'e v', ' vi', 'ron', ' ba', 'tar', 'tun', 'e n', ' mi', ' tr']\n",
            "-----\n",
            "Shingles: ['ett', 's p', 's Y', 'I f', 'g o', 'ee ', '. I', 'din', 'o b', 'one']\n",
            "-----\n",
            "Shingles: ['ish', ' tw', 'ron', ', h', '), ', 'tar', 'o m', 't.I', 'e n', ' tr']\n",
            "-----\n",
            "Shingles: ['ish', 'end', 'e v', ' vi', 'ron', 's P', 'sho', 'wee', 'len', 'tar']\n",
            "-----\n",
            "Shingles: ['s p', 'ron', 'len', 'tar', 'rfe', 'hea', 's, ', 'var', 'rot', 'a d']\n",
            "-----\n"
          ]
        }
      ]
    },
    {
      "cell_type": "code",
      "source": [
        "vocab = set()\n",
        "\n",
        "for shingles in shingles_list:\n",
        "  vocab.update(shingles)\n",
        "print(list(vocab)[:10])"
      ],
      "metadata": {
        "id": "4cfK-XEQc1Mq",
        "colab": {
          "base_uri": "https://localhost:8080/"
        },
        "outputId": "25e3de62-e32f-4cc1-9b6d-89d3a40518f7"
      },
      "execution_count": 27,
      "outputs": [
        {
          "output_type": "stream",
          "name": "stdout",
          "text": [
            "['yss', 'MH ', 'et.', 'd v', 'ed]', 'dub', 'an\"', ' ba', 'ulw', 'lpf']\n"
          ]
        }
      ]
    },
    {
      "cell_type": "code",
      "source": [
        "# Creazione dei vettori sparsi per ogni chiave\n",
        "sparse_vectors = []\n",
        "\n",
        "for shingles in shingles_list:\n",
        "  sparse_vectors.append([1 if x in shingles else 0 for x in vocab])\n",
        "\n",
        "# Stampa un esempio\n",
        "for vec in sparse_vectors[:5]:\n",
        "    print(vec[:20])"
      ],
      "metadata": {
        "colab": {
          "base_uri": "https://localhost:8080/"
        },
        "id": "9p4ch99HgIg1",
        "outputId": "4460bf67-a7da-4ba9-cc29-83218865bb3a"
      },
      "execution_count": 28,
      "outputs": [
        {
          "output_type": "stream",
          "name": "stdout",
          "text": [
            "[0, 0, 0, 0, 0, 0, 0, 1, 0, 0, 1, 0, 0, 0, 0, 0, 0, 0, 0, 0]\n",
            "[0, 0, 0, 0, 0, 0, 0, 0, 0, 0, 0, 0, 0, 0, 0, 0, 0, 0, 0, 0]\n",
            "[0, 0, 0, 0, 0, 0, 0, 0, 0, 0, 1, 0, 0, 0, 0, 0, 0, 0, 0, 0]\n",
            "[0, 0, 0, 0, 0, 0, 0, 0, 0, 0, 0, 0, 0, 1, 0, 0, 0, 0, 0, 0]\n",
            "[0, 0, 0, 0, 0, 0, 0, 0, 0, 0, 0, 0, 0, 0, 0, 0, 0, 0, 0, 0]\n"
          ]
        }
      ]
    },
    {
      "cell_type": "code",
      "source": [
        "# Adesso applichiamo il MinHash\n",
        "\n",
        "from random import shuffle\n",
        "\n",
        "hash_ex = list(range(1, len(vocab)+1))\n",
        "shuffle(hash_ex)  # Randomizziamo il range\n",
        "print(hash_ex[:10])"
      ],
      "metadata": {
        "colab": {
          "base_uri": "https://localhost:8080/"
        },
        "id": "WxGl0gN8iaU4",
        "outputId": "5f74fcad-6519-4bce-83a4-a08e96c9287f"
      },
      "execution_count": 29,
      "outputs": [
        {
          "output_type": "stream",
          "name": "stdout",
          "text": [
            "[3682, 1936, 2346, 5206, 5349, 1639, 5146, 834, 1884, 1631]\n"
          ]
        }
      ]
    },
    {
      "cell_type": "code",
      "source": [],
      "metadata": {
        "id": "BlxxAj0SjgOW"
      },
      "execution_count": null,
      "outputs": []
    }
  ]
}