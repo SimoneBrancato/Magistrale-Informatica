{
 "cells": [
  {
   "cell_type": "markdown",
   "metadata": {},
   "source": [
    "### Vediamo come costruire e allenare un regressore lineare con PyTorch. Carichiamo il dataset Boston con scikit-learn"
   ]
  },
  {
   "cell_type": "code",
   "execution_count": 6,
   "metadata": {},
   "outputs": [
    {
     "name": "stdout",
     "output_type": "stream",
     "text": [
      "Requirement already satisfied: torch in c:\\users\\simon\\appdata\\local\\programs\\python\\python311\\lib\\site-packages (2.6.0)\n",
      "Requirement already satisfied: filelock in c:\\users\\simon\\appdata\\local\\programs\\python\\python311\\lib\\site-packages (from torch) (3.18.0)\n",
      "Requirement already satisfied: typing-extensions>=4.10.0 in c:\\users\\simon\\appdata\\roaming\\python\\python311\\site-packages (from torch) (4.13.1)\n",
      "Requirement already satisfied: networkx in c:\\users\\simon\\appdata\\local\\programs\\python\\python311\\lib\\site-packages (from torch) (3.4.2)\n",
      "Requirement already satisfied: jinja2 in c:\\users\\simon\\appdata\\local\\programs\\python\\python311\\lib\\site-packages (from torch) (3.1.6)\n",
      "Requirement already satisfied: fsspec in c:\\users\\simon\\appdata\\local\\programs\\python\\python311\\lib\\site-packages (from torch) (2025.3.2)\n",
      "Requirement already satisfied: sympy==1.13.1 in c:\\users\\simon\\appdata\\local\\programs\\python\\python311\\lib\\site-packages (from torch) (1.13.1)\n",
      "Requirement already satisfied: mpmath<1.4,>=1.1.0 in c:\\users\\simon\\appdata\\local\\programs\\python\\python311\\lib\\site-packages (from sympy==1.13.1->torch) (1.3.0)\n",
      "Requirement already satisfied: MarkupSafe>=2.0 in c:\\users\\simon\\appdata\\local\\programs\\python\\python311\\lib\\site-packages (from jinja2->torch) (3.0.2)\n",
      "Note: you may need to restart the kernel to use updated packages.\n"
     ]
    },
    {
     "name": "stderr",
     "output_type": "stream",
     "text": [
      "\n",
      "[notice] A new release of pip available: 22.3 -> 25.0.1\n",
      "[notice] To update, run: python.exe -m pip install --upgrade pip\n"
     ]
    },
    {
     "name": "stdout",
     "output_type": "stream",
     "text": [
      "Requirement already satisfied: scikit-learn in c:\\users\\simon\\appdata\\local\\programs\\python\\python311\\lib\\site-packages (1.6.1)\n",
      "Requirement already satisfied: numpy>=1.19.5 in c:\\users\\simon\\appdata\\local\\programs\\python\\python311\\lib\\site-packages (from scikit-learn) (2.2.4)\n",
      "Requirement already satisfied: scipy>=1.6.0 in c:\\users\\simon\\appdata\\local\\programs\\python\\python311\\lib\\site-packages (from scikit-learn) (1.15.2)\n",
      "Requirement already satisfied: joblib>=1.2.0 in c:\\users\\simon\\appdata\\local\\programs\\python\\python311\\lib\\site-packages (from scikit-learn) (1.4.2)\n",
      "Requirement already satisfied: threadpoolctl>=3.1.0 in c:\\users\\simon\\appdata\\local\\programs\\python\\python311\\lib\\site-packages (from scikit-learn) (3.6.0)\n",
      "Note: you may need to restart the kernel to use updated packages.\n"
     ]
    },
    {
     "name": "stderr",
     "output_type": "stream",
     "text": [
      "\n",
      "[notice] A new release of pip available: 22.3 -> 25.0.1\n",
      "[notice] To update, run: python.exe -m pip install --upgrade pip\n"
     ]
    },
    {
     "name": "stdout",
     "output_type": "stream",
     "text": [
      "Requirement already satisfied: pandas in c:\\users\\simon\\appdata\\local\\programs\\python\\python311\\lib\\site-packages (2.2.3)\n",
      "Requirement already satisfied: numpy>=1.23.2 in c:\\users\\simon\\appdata\\local\\programs\\python\\python311\\lib\\site-packages (from pandas) (2.2.4)\n",
      "Requirement already satisfied: python-dateutil>=2.8.2 in c:\\users\\simon\\appdata\\roaming\\python\\python311\\site-packages (from pandas) (2.9.0.post0)\n",
      "Requirement already satisfied: pytz>=2020.1 in c:\\users\\simon\\appdata\\local\\programs\\python\\python311\\lib\\site-packages (from pandas) (2025.2)\n",
      "Requirement already satisfied: tzdata>=2022.7 in c:\\users\\simon\\appdata\\local\\programs\\python\\python311\\lib\\site-packages (from pandas) (2025.2)\n",
      "Requirement already satisfied: six>=1.5 in c:\\users\\simon\\appdata\\roaming\\python\\python311\\site-packages (from python-dateutil>=2.8.2->pandas) (1.17.0)\n",
      "Note: you may need to restart the kernel to use updated packages.\n"
     ]
    },
    {
     "name": "stderr",
     "output_type": "stream",
     "text": [
      "\n",
      "[notice] A new release of pip available: 22.3 -> 25.0.1\n",
      "[notice] To update, run: python.exe -m pip install --upgrade pip\n"
     ]
    }
   ],
   "source": [
    "%pip install torch\n",
    "%pip install scikit-learn\n",
    "%pip install pandas"
   ]
  },
  {
   "cell_type": "markdown",
   "metadata": {},
   "source": [
    "# Regressione Lineare"
   ]
  },
  {
   "cell_type": "code",
   "execution_count": 7,
   "metadata": {},
   "outputs": [
    {
     "name": "stdout",
     "output_type": "stream",
     "text": [
      "**Author**:   \n",
      "**Source**: Unknown - Date unknown  \n",
      "**Please cite**:   \n",
      "\n",
      "The Boston house-price data of Harrison, D. and Rubinfeld, D.L. 'Hedonic\n",
      "prices and the demand for clean air', J. Environ. Economics & Management,\n",
      "vol.5, 81-102, 1978.   Used in Belsley, Kuh & Welsch, 'Regression diagnostics\n",
      "...', Wiley, 1980.   N.B. Various transformations are used in the table on\n",
      "pages 244-261 of the latter.\n",
      "Variables in order:\n",
      "CRIM     per capita crime rate by town\n",
      "ZN       proportion of residential land zoned for lots over 25,000 sq.ft.\n",
      "INDUS    proportion of non-retail business acres per town\n",
      "CHAS     Charles River dummy variable (= 1 if tract bounds river; 0 otherwise)\n",
      "NOX      nitric oxides concentration (parts per 10 million)\n",
      "RM       average number of rooms per dwelling\n",
      "AGE      proportion of owner-occupied units built prior to 1940\n",
      "DIS      weighted distances to five Boston employment centres\n",
      "RAD      index of accessibility to radial highways\n",
      "TAX      full-value property-tax rate per $10,000\n",
      "PTRATIO  pupil-teacher ratio by town\n",
      "B        1000(Bk - 0.63)^2 where Bk is the proportion of blacks by town\n",
      "LSTAT    % lower status of the population\n",
      "MEDV     Median value of owner-occupied homes in $1000's\n",
      "\n",
      "\n",
      "Information about the dataset\n",
      "CLASSTYPE: numeric\n",
      "CLASSINDEX: last\n",
      "\n",
      "Downloaded from openml.org.\n"
     ]
    }
   ],
   "source": [
    "from sklearn.datasets import fetch_openml\n",
    "boston = fetch_openml(name=\"boston\", version=1)\n",
    "print(boston.DESCR)"
   ]
  },
  {
   "cell_type": "markdown",
   "metadata": {},
   "source": [
    "Il dataset consiste in 506 osservazioni, ognuna di esse ha 13 valori che costituiscono rilevamenti di vicinati di Boston.\n"
   ]
  },
  {
   "cell_type": "code",
   "execution_count": 8,
   "metadata": {},
   "outputs": [],
   "source": [
    "X = boston.data.to_numpy().astype(float)\n",
    "Y = boston.target.to_numpy().astype(float)"
   ]
  },
  {
   "cell_type": "markdown",
   "metadata": {},
   "source": [
    "X sono i rilevamenti, quindi sono 506 quartieri con ognuno contenente 13 rilevamenti\n",
    "Y sono i valori mediani delle case in ognuno dei vicinati espressi in multipli di 1000"
   ]
  },
  {
   "cell_type": "markdown",
   "metadata": {},
   "source": [
    "Calcoliamo una permutazione casuale degli indici."
   ]
  },
  {
   "cell_type": "code",
   "execution_count": 9,
   "metadata": {},
   "outputs": [],
   "source": [
    "import numpy as np\n",
    "import torch\n",
    "\n",
    "np.random.seed(123)\n",
    "torch.random.manual_seed(123)\n",
    "\n",
    "idx = np.random.permutation(len(X))\n",
    "\n",
    "# Applichiamo la stessa permutazione a rilevamenti e target\n",
    "X = X[idx]\n",
    "Y = Y[idx]"
   ]
  },
  {
   "cell_type": "markdown",
   "metadata": {},
   "source": [
    "#### Adesso suddividiamo il dataset in training e testing selezionando i primi 50 valori per formare il testing set."
   ]
  },
  {
   "cell_type": "markdown",
   "metadata": {},
   "source": [
    "#### Trasformiamo gli array in tensori e inseriamoli in delle variabili."
   ]
  },
  {
   "cell_type": "code",
   "execution_count": 10,
   "metadata": {},
   "outputs": [],
   "source": [
    "X_training = torch.Tensor(X[50:])\n",
    "Y_training = torch.Tensor(Y[50:])\n",
    "X_testing = torch.Tensor(X[:50])\n",
    "Y_testing = torch.Tensor(Y[:50])"
   ]
  },
  {
   "cell_type": "markdown",
   "metadata": {},
   "source": [
    "### Q1: Perchè abbiamo effetuato una permutazione casuale dei dati prima di dividerli in training e test?\n"
   ]
  },
  {
   "cell_type": "markdown",
   "metadata": {},
   "source": [
    "Perchè così se il dataset ha un bias andiamo a renderlo omogeneo e dividiamo correttamente tra train e test"
   ]
  },
  {
   "cell_type": "markdown",
   "metadata": {},
   "source": [
    "Il modello di regressione dipende da 14 parametri:\n",
    "- 13 sono le features in ingresso\n",
    "- 1 l'intercetta della retta\n",
    "Iniializziamo l'array dei pesi $\\theta$ casualmente con distribuzione normale media zero varianza 0.1 così che inizialmente abbia valori sia positivi che negativi \n",
    "\n",
    "Definiamo una variabile per l'intercetta, ovvero theta_0"
   ]
  },
  {
   "cell_type": "markdown",
   "metadata": {},
   "source": [
    "Il bias in un modello di regressione lineare è l'intercetta della retta, ovvero il valore che la funzione di regressione assume quando tutte le variabili indipendenti sono pari a zero.\n",
    "\n",
    "La funzione del modello è:\n",
    "$$\n",
    "y(x) = \\theta_1x_1+...+\\theta_{13}x_{13}+\\theta_0\n",
    "$$"
   ]
  },
  {
   "cell_type": "code",
   "execution_count": 11,
   "metadata": {},
   "outputs": [
    {
     "name": "stdout",
     "output_type": "stream",
     "text": [
      "tensor([-0.0111,  0.0120, -0.0370, -0.0240, -0.1197,  0.0209, -0.0972, -0.0755,\n",
      "         0.0324, -0.0109,  0.0210, -0.0391,  0.0235], requires_grad=True)\n",
      "tensor([0.0665], requires_grad=True)\n"
     ]
    }
   ],
   "source": [
    "theta = torch.Tensor(13) # Tensore da 13 unità\n",
    "theta_0 = torch.Tensor(1) # Bias\n",
    "\n",
    "theta.requires_grad_(True)\n",
    "theta_0.requires_grad_(True)\n",
    "\n",
    "theta.data.normal_(0,0.1)\n",
    "theta_0.data.normal_(0,0.1)\n",
    "\n",
    "print(theta)\n",
    "print(theta_0)"
   ]
  },
  {
   "cell_type": "markdown",
   "metadata": {},
   "source": [
    "In PyTorch, l'attributo requires_grad è fondamentale per il calcolo automatico del gradiente e l'ottimizzazione dei modelli di machine learning.\n",
    "\n",
    "Quando un tensore ha requires_grad=True, PyTorch tiene traccia delle operazioni fatte su di esso, costruendo un grafo computazionale dinamico. Questo permette di calcolare automaticamente i gradienti tramite backpropagation, essenziali per l'ottimizzazione del modello"
   ]
  },
  {
   "cell_type": "code",
   "execution_count": 12,
   "metadata": {},
   "outputs": [],
   "source": [
    "def linear_regression(input, theta, theta_0):\n",
    "    return input.mul(theta).sum(1)+theta_0"
   ]
  },
  {
   "cell_type": "markdown",
   "metadata": {},
   "source": [
    "Abbiamo moltiplicato ogni riga di X_training per il vettore theta, quindi stiamo formando l'equazione di regressione lineare. Infine, sommiamo lungo l'asse. Questo restituisce per ogni la combinazione lineare a cui sommiamo theta_0"
   ]
  },
  {
   "cell_type": "code",
   "execution_count": 13,
   "metadata": {},
   "outputs": [
    {
     "name": "stdout",
     "output_type": "stream",
     "text": [
      "tensor([-20.8190, -23.3360, -24.6247, -31.4600, -27.4998, -28.1950, -27.1047,\n",
      "        -26.2724, -18.8539, -31.4594], grad_fn=<SliceBackward0>)\n"
     ]
    }
   ],
   "source": [
    "y = linear_regression(X_training, theta, theta_0)\n",
    "print(y[:10])"
   ]
  },
  {
   "cell_type": "markdown",
   "metadata": {},
   "source": [
    "Confrontiamo questi valori con i veri valori quindi Ground Truth"
   ]
  },
  {
   "cell_type": "code",
   "execution_count": 14,
   "metadata": {},
   "outputs": [
    {
     "name": "stdout",
     "output_type": "stream",
     "text": [
      "tensor([32.4000, 29.6000, 20.4000, 12.3000, 19.1000, 14.9000, 17.8000,  8.8000,\n",
      "        35.4000, 11.5000])\n"
     ]
    }
   ],
   "source": [
    "print(Y_training[:10])"
   ]
  },
  {
   "cell_type": "markdown",
   "metadata": {},
   "source": [
    "I valori sono molto diversi ed è normale perchè il modello per ora usa pesi inizializzati a caso, adesso dobbiamo ottimizzare il modello tramite la discesa del gradiente. Per farlo definiamo una funzione di loss cioè una funzione differenziabile che esprime l'errore che il modello commette."
   ]
  },
  {
   "cell_type": "markdown",
   "metadata": {},
   "source": [
    "Qui useremo Mean Squared Error.\n",
    "$$\n",
    "MSE(y, \\hat y) = \\frac 1N \\sum_i^N(\\hat y_i - y_i)^2\n",
    "$$"
   ]
  },
  {
   "cell_type": "markdown",
   "metadata": {},
   "source": [
    "dove $\\hat y$ sono le predizioni, mentre $y$ sono le ground truth e N il numero di campioni"
   ]
  },
  {
   "cell_type": "code",
   "execution_count": 15,
   "metadata": {},
   "outputs": [],
   "source": [
    "def loss(input, target):\n",
    "    return ((input-target)**2).mean()"
   ]
  },
  {
   "cell_type": "code",
   "execution_count": 16,
   "metadata": {},
   "outputs": [
    {
     "name": "stdout",
     "output_type": "stream",
     "text": [
      "tensor(2274.0801, grad_fn=<MeanBackward0>)\n"
     ]
    }
   ],
   "source": [
    "print(loss(y,Y_training))"
   ]
  },
  {
   "cell_type": "markdown",
   "metadata": {},
   "source": [
    "è un numero molto grande perchè le predizioni sono molto distanti dalle GT. Adesso applichiamo la discesa del gradiente. "
   ]
  },
  {
   "cell_type": "markdown",
   "metadata": {},
   "source": [
    "$$\n",
    "L_\\theta(x,y)=\\frac1N \\sum_i^N (\\theta_0 + \\sum_i (x_i\\theta_i)-y_i)^2\n",
    "$$"
   ]
  },
  {
   "cell_type": "markdown",
   "metadata": {},
   "source": [
    "Discesa del gradiente:\n",
    "1. Normalizza i dati\n",
    "2. Inizializza i parametri opportunamente\n",
    "3. Calcola le predizioni $\\hat y = \\sum_i (\\theta_i x_i)+\\theta_0$\n",
    "4. Calcola la loss function\n",
    "5. Calcola il gradiente dei parametri rispetto la loss function\n",
    "6. Aggiorna i pesi seguendo la regola $\\theta = \\theta -\\eta GradienteLF$\n",
    "7. Ripeti 3-6 fino a convergenza"
   ]
  },
  {
   "cell_type": "markdown",
   "metadata": {},
   "source": [
    "In pratica il punto 7 consiste nel settare un numero di iterazioni dette epoche. Dato che ogni feature ha unità di misura diverse è ovvio che la normalizzazione serve."
   ]
  },
  {
   "cell_type": "code",
   "execution_count": 17,
   "metadata": {},
   "outputs": [
    {
     "name": "stdout",
     "output_type": "stream",
     "text": [
      "tensor([3.5481e+00, 1.1293e+01, 1.1224e+01, 6.1404e-02, 5.5591e-01, 6.2701e+00,\n",
      "        6.8338e+01, 3.7963e+00, 9.5658e+00, 4.0893e+02, 1.8468e+01, 3.5775e+02,\n",
      "        1.2820e+01]) tensor([8.4949e+00, 2.3287e+01, 6.9195e+00, 2.4033e-01, 1.1805e-01, 6.9616e-01,\n",
      "        2.8338e+01, 2.1295e+00, 8.7019e+00, 1.6880e+02, 2.1430e+00, 9.0201e+01,\n",
      "        7.1928e+00])\n"
     ]
    }
   ],
   "source": [
    "means = X_training.mean(0) # media lungo la dimensione zero\n",
    "stds = X_training.std(0)\n",
    "print(means, stds)\n"
   ]
  },
  {
   "cell_type": "markdown",
   "metadata": {},
   "source": [
    "Noto che le 12 variabili hanno medie e deviazioni standard molto diverse, uniformiamole con Z-scoring"
   ]
  },
  {
   "cell_type": "code",
   "execution_count": 18,
   "metadata": {},
   "outputs": [],
   "source": [
    "X_training_norm = (X_training-means)/stds"
   ]
  },
  {
   "cell_type": "markdown",
   "metadata": {},
   "source": [
    "Adesso le variabili hanno medie prossime allo zero e std pari a 1"
   ]
  },
  {
   "cell_type": "code",
   "execution_count": 19,
   "metadata": {},
   "outputs": [
    {
     "name": "stdout",
     "output_type": "stream",
     "text": [
      "tensor([ 0.0000e+00,  7.3199e-09,  1.2914e-07,  2.0914e-09,  3.1685e-07,\n",
      "        -4.2664e-07,  9.5158e-08,  1.2444e-07,  1.7777e-08,  2.1437e-08,\n",
      "        -2.1332e-07, -1.1503e-07,  1.6731e-07])\n",
      "tensor([1.0000, 1.0000, 1.0000, 1.0000, 1.0000, 1.0000, 1.0000, 1.0000, 1.0000,\n",
      "        1.0000, 1.0000, 1.0000, 1.0000])\n"
     ]
    }
   ],
   "source": [
    "print(X_training_norm.mean(0))\n",
    "print(X_training_norm.std(0))"
   ]
  },
  {
   "cell_type": "markdown",
   "metadata": {},
   "source": [
    "Facciamo lo stesso per test set, notando che non è noto in fase di training e infatti non è stato utilizzato per calcolare medie e deviazioni standard"
   ]
  },
  {
   "cell_type": "code",
   "execution_count": 20,
   "metadata": {},
   "outputs": [],
   "source": [
    "X_testing_norm = (X_testing-means)/stds"
   ]
  },
  {
   "cell_type": "code",
   "execution_count": 21,
   "metadata": {},
   "outputs": [
    {
     "name": "stdout",
     "output_type": "stream",
     "text": [
      "Epoch: 0, loss: 576.30\n",
      "Epoch: 1, loss: 356.67\n",
      "Epoch: 2, loss: 234.86\n",
      "Epoch: 3, loss: 158.02\n",
      "Epoch: 4, loss: 108.95\n",
      "Epoch: 5, loss: 77.55\n",
      "Epoch: 6, loss: 57.44\n",
      "Epoch: 7, loss: 44.54\n",
      "Epoch: 8, loss: 36.25\n",
      "Epoch: 9, loss: 30.91\n"
     ]
    }
   ],
   "source": [
    "learning_rate = 0.1\n",
    "epochs = 10\n",
    "\n",
    "# Normalizziamo i dati\n",
    "# Già fatto in X_training_norm e X_testing_norm\n",
    "\n",
    "# Inizializziamo i pesi\n",
    "theta = torch.Tensor(13)\n",
    "theta.normal_(0,0.01)\n",
    "\n",
    "theta_0 = torch.Tensor(1)\n",
    "theta_0.normal_(0,0.01)\n",
    "\n",
    "theta.requires_grad_(True)\n",
    "theta_0.requires_grad_(True)\n",
    "\n",
    "for e in range(epochs):\n",
    "    # Calcoliamo le predizioni\n",
    "    y = linear_regression(X_training_norm, theta, theta_0)\n",
    "\n",
    "    # Calcoliamo la loss function\n",
    "    l = loss(y, Y_training)\n",
    "\n",
    "    # Calcoliamo il gradiente della loss\n",
    "    l.backward()\n",
    "\n",
    "    print(\"Epoch: {}, loss: {:0.2f}\".format(e, l.item()))\n",
    "\n",
    "    # Aggiorniamo i pesi\n",
    "    theta.data.sub_(learning_rate*theta.grad.data)\n",
    "    theta_0.data.sub_(learning_rate*theta_0.grad.data)\n",
    "\n",
    "    # Azzeriamo i gradienti per evitare di accumularli\n",
    "    theta.grad.data.zero_()\n",
    "    theta_0.grad.data.zero_()\n"
   ]
  },
  {
   "cell_type": "markdown",
   "metadata": {},
   "source": [
    "Il modello sta andando in convergenza ma ancora non c'è arrivato. Meglio aumentare le epoche, arriveremo a convergenza quando si arriva ad un plateau. Inoltre piuttosto che stampare le loss conserviamone i valori\n"
   ]
  },
  {
   "cell_type": "code",
   "execution_count": null,
   "metadata": {},
   "outputs": [],
   "source": [
    "learning_rate = 0.1\n",
    "epochs = 50\n",
    "\n",
    "# Normalizziamo i dati\n",
    "# Già fatto in X_training_norm e X_testing_norm\n",
    "\n",
    "# Inizializziamo i pesi\n",
    "theta = torch.Tensor(13)\n",
    "theta.normal_(0,0.01)\n",
    "\n",
    "theta_0 = torch.Tensor(1)\n",
    "theta_0.normal_(0,0.01)\n",
    "\n",
    "theta.requires_grad_(True)\n",
    "theta_0.requires_grad_(True)\n",
    "losses = []\n",
    "\n",
    "for e in range(epochs):\n",
    "    # Calcoliamo le predizioni\n",
    "    y = linear_regression(X_training_norm, theta, theta_0)\n",
    "\n",
    "    # Calcoliamo la loss function\n",
    "    l = loss(y, Y_training)\n",
    "\n",
    "    # Calcoliamo il gradiente della loss\n",
    "    l.backward()\n",
    "\n",
    "    # Memorizziamo la loss\n",
    "    losses.append(l.item())\n",
    "\n",
    "    # Aggiorniamo i pesi\n",
    "    theta.data.sub_(learning_rate*theta.grad.data)\n",
    "    theta_0.data.sub_(learning_rate*theta_0.grad.data)\n",
    "\n",
    "    # Azzeriamo i gradienti per evitare di accumularli\n",
    "    theta.grad.data.zero_()\n",
    "    theta_0.grad.data.zero_()\n"
   ]
  },
  {
   "cell_type": "code",
   "execution_count": 23,
   "metadata": {},
   "outputs": [
    {
     "name": "stdout",
     "output_type": "stream",
     "text": [
      "Requirement already satisfied: matplotlib in c:\\users\\simon\\appdata\\local\\programs\\python\\python311\\lib\\site-packages (3.10.1)\n",
      "Requirement already satisfied: contourpy>=1.0.1 in c:\\users\\simon\\appdata\\local\\programs\\python\\python311\\lib\\site-packages (from matplotlib) (1.3.1)\n",
      "Requirement already satisfied: cycler>=0.10 in c:\\users\\simon\\appdata\\local\\programs\\python\\python311\\lib\\site-packages (from matplotlib) (0.12.1)\n",
      "Requirement already satisfied: fonttools>=4.22.0 in c:\\users\\simon\\appdata\\local\\programs\\python\\python311\\lib\\site-packages (from matplotlib) (4.57.0)\n",
      "Requirement already satisfied: kiwisolver>=1.3.1 in c:\\users\\simon\\appdata\\local\\programs\\python\\python311\\lib\\site-packages (from matplotlib) (1.4.8)\n",
      "Requirement already satisfied: numpy>=1.23 in c:\\users\\simon\\appdata\\local\\programs\\python\\python311\\lib\\site-packages (from matplotlib) (2.2.4)\n",
      "Requirement already satisfied: packaging>=20.0 in c:\\users\\simon\\appdata\\roaming\\python\\python311\\site-packages (from matplotlib) (24.2)\n",
      "Requirement already satisfied: pillow>=8 in c:\\users\\simon\\appdata\\local\\programs\\python\\python311\\lib\\site-packages (from matplotlib) (11.1.0)\n",
      "Requirement already satisfied: pyparsing>=2.3.1 in c:\\users\\simon\\appdata\\local\\programs\\python\\python311\\lib\\site-packages (from matplotlib) (3.2.3)\n",
      "Requirement already satisfied: python-dateutil>=2.7 in c:\\users\\simon\\appdata\\roaming\\python\\python311\\site-packages (from matplotlib) (2.9.0.post0)\n",
      "Requirement already satisfied: six>=1.5 in c:\\users\\simon\\appdata\\roaming\\python\\python311\\site-packages (from python-dateutil>=2.7->matplotlib) (1.17.0)\n",
      "Note: you may need to restart the kernel to use updated packages.\n"
     ]
    },
    {
     "name": "stderr",
     "output_type": "stream",
     "text": [
      "\n",
      "[notice] A new release of pip available: 22.3 -> 25.0.1\n",
      "[notice] To update, run: python.exe -m pip install --upgrade pip\n"
     ]
    }
   ],
   "source": [
    "%pip install matplotlib"
   ]
  },
  {
   "cell_type": "code",
   "execution_count": 24,
   "metadata": {},
   "outputs": [
    {
     "data": {
      "image/png": "[encoded data removed]",
      "text/plain": [
       "<Figure size 1200x800 with 1 Axes>"
      ]
     },
     "metadata": {},
     "output_type": "display_data"
    }
   ],
   "source": [
    "%matplotlib inline\n",
    "from matplotlib import pyplot as plt\n",
    "\n",
    "plt.figure(figsize=(12,8))\n",
    "plt.plot(losses)\n",
    "plt.xlabel(\"Epochs\")\n",
    "plt.ylabel(\"Loss\")\n",
    "plt.grid()\n",
    "plt.show()"
   ]
  },
  {
   "cell_type": "markdown",
   "metadata": {},
   "source": [
    "La loss converge circa dopo 15 epoche e resta stabile intorno a 20, ma ciò succede sul training, chissà come si compota con i dati di testing..."
   ]
  },
  {
   "cell_type": "code",
   "execution_count": 25,
   "metadata": {},
   "outputs": [
    {
     "name": "stdout",
     "output_type": "stream",
     "text": [
      "tensor(42.8920, grad_fn=<MeanBackward0>)\n"
     ]
    }
   ],
   "source": [
    "yt = linear_regression(X_testing_norm, theta, theta_0)\n",
    "print(loss(yt,Y_testing))"
   ]
  },
  {
   "cell_type": "markdown",
   "metadata": {},
   "source": [
    "Abbiamo ottenuto una loss circa il doppio del training, quindi c'è un po' di overfitting. Per capire come evolve la loss di test sarebbe interessante capirne la traiettoria durante la fase di training. Facciamolo!"
   ]
  },
  {
   "cell_type": "code",
   "execution_count": 26,
   "metadata": {},
   "outputs": [],
   "source": [
    "learning_rate = 0.1\n",
    "epochs = 50\n",
    "\n",
    "# Normalizziamo i dati\n",
    "# Già fatto in X_training_norm e X_testing_norm\n",
    "\n",
    "# Inizializziamo i pesi\n",
    "theta = torch.Tensor(13)\n",
    "theta.normal_(0,0.01)\n",
    "\n",
    "theta_0 = torch.Tensor(1)\n",
    "theta_0.normal_(0,0.01)\n",
    "\n",
    "theta.requires_grad_(True)\n",
    "theta_0.requires_grad_(True)\n",
    "\n",
    "losses_train = []\n",
    "losses_test = []\n",
    "\n",
    "for e in range(epochs):\n",
    "    # Calcoliamo le predizioni\n",
    "    y = linear_regression(X_training_norm, theta, theta_0)\n",
    "\n",
    "    # Calcoliamo la loss function\n",
    "    l = loss(y, Y_training)\n",
    "\n",
    "    # Calcoliamo il gradiente della loss\n",
    "    l.backward()\n",
    "\n",
    "    # Memorizziamo la loss\n",
    "    losses_train.append(l.item())\n",
    "\n",
    "    # Aggiorniamo i pesi\n",
    "    theta.data.sub_(learning_rate*theta.grad.data)\n",
    "    theta_0.data.sub_(learning_rate*theta_0.grad.data)\n",
    "\n",
    "    # Azzeriamo i gradienti per evitare di accumularli\n",
    "    theta.grad.data.zero_()\n",
    "    theta_0.grad.data.zero_()\n",
    "\n",
    "    # Calcoliamo la loss sul test, qui non serve calcolare i gradienti\n",
    "    with torch.set_grad_enabled(False):\n",
    "        y_test = linear_regression(X_testing_norm, theta, theta_0)\n",
    "        loss_test = loss(y_test, Y_testing)\n",
    "        losses_test.append(loss_test.item())\n",
    "\n",
    "\n"
   ]
  },
  {
   "cell_type": "code",
   "execution_count": 27,
   "metadata": {},
   "outputs": [
    {
     "data": {
      "image/png": "[encoded data removed]",
      "text/plain": [
       "<Figure size 1200x800 with 1 Axes>"
      ]
     },
     "metadata": {},
     "output_type": "display_data"
    }
   ],
   "source": [
    "from matplotlib import pyplot as plt \n",
    "plt.figure(figsize=(12,8))\n",
    "plt.plot(losses_train)\n",
    "plt.plot(losses_test)\n",
    "plt.xlabel(\"Epochs\")\n",
    "plt.ylabel(\"Loss\")\n",
    "plt.grid()\n",
    "plt.legend(['Training','Testing'])\n",
    "plt.show()"
   ]
  },
  {
   "cell_type": "markdown",
   "metadata": {},
   "source": [
    "Anche la loss converge ma a valori più alti. Aumentare le epoche aiuterebbe?\n",
    "No perchè aumentare le epoche comporta un continuo adattamento del modello ai dati di training e non migliora le capacità di generalizzare."
   ]
  },
  {
   "cell_type": "markdown",
   "metadata": {},
   "source": [
    "# API PyTorch"
   ]
  },
  {
   "cell_type": "markdown",
   "metadata": {},
   "source": [
    "Per velocizzare la scrittura del codice PyTorch mette a disposizione una API ad oggetti.\n",
    "Vediamo come fare un regressore lineare con questi strumenti.\n",
    "\n",
    "\n",
    "In PyTorch ogni pezzo di codice che effettua computazioni è un oggetto Module che include:\n",
    "1. Trasformazioni lineari\n",
    "2. Funzione logistica e varie\n",
    "3. Loss\n",
    "4. Reti neurali costruite dall'utente\n",
    "Dentro torch.nn troviamo il modulo Linear che contiene trasformazioni lineari del tipo $y=Ax^T+b$\n",
    "\n",
    "Dove:\n",
    "- x è la matrice degli elementi di input di dimensione (N,n) dove N campioni e n features\n",
    "- A è la matrice dei pesi di dimensione (m,n) dove m dim. dati in uscita ed n dim. dati in entrata\n",
    "- b è il bias di dimensione m\n",
    "- y è la matrice degli elementi di output con dimensione (m,N)\n",
    "In pratica possiamo trasformare i dati da n dimensioni ad m dimensioni tramite parametri A e b"
   ]
  },
  {
   "cell_type": "code",
   "execution_count": 28,
   "metadata": {},
   "outputs": [
    {
     "name": "stdout",
     "output_type": "stream",
     "text": [
      "torch.Size([10, 20])\n",
      "torch.Size([10])\n"
     ]
    }
   ],
   "source": [
    "from torch import nn\n",
    "\n",
    "linear = nn.Linear(20,10)\n",
    "\n",
    "par = list(linear.parameters())\n",
    "print(par[0].shape) # Matrice A(m,n)\n",
    "print(par[1].shape) # Vettore(m)"
   ]
  },
  {
   "cell_type": "code",
   "execution_count": 29,
   "metadata": {},
   "outputs": [
    {
     "name": "stdout",
     "output_type": "stream",
     "text": [
      "torch.Size([150, 10])\n"
     ]
    }
   ],
   "source": [
    "import torch\n",
    "\n",
    "# Costruiamo una matrice di 150 elementi a 20 dimensioni\n",
    "sample_input = torch.rand((150,20))\n",
    "\n",
    "# Otteniamo una matrice di 150 elementi a 10 dimensioni\n",
    "sample_output = linear(sample_input)\n",
    "\n",
    "print(sample_output.shape)"
   ]
  },
  {
   "cell_type": "code",
   "execution_count": 30,
   "metadata": {},
   "outputs": [
    {
     "name": "stdout",
     "output_type": "stream",
     "text": [
      "torch.Size([456, 1])\n"
     ]
    }
   ],
   "source": [
    "linreg = nn.Linear(13,1)\n",
    "z = linreg(X_training_norm)\n",
    "print(z.shape)"
   ]
  },
  {
   "cell_type": "markdown",
   "metadata": {},
   "source": [
    "PyTorch mette a disposizione anche una funzione di loss"
   ]
  },
  {
   "cell_type": "code",
   "execution_count": 31,
   "metadata": {},
   "outputs": [
    {
     "name": "stdout",
     "output_type": "stream",
     "text": [
      "Loss di PyTorch: tensor(583.5792, grad_fn=<MseLossBackward0>)\n",
      "Loss utente: tensor(583.5792, grad_fn=<MeanBackward0>)\n"
     ]
    }
   ],
   "source": [
    "mse = nn.MSELoss()\n",
    "\n",
    "print(\"Loss di PyTorch:\", mse(z, Y_training.view(-1,1)))\n",
    "print(\"Loss utente:\", loss(z, Y_training.view(-1,1)))"
   ]
  },
  {
   "cell_type": "markdown",
   "metadata": {},
   "source": [
    "Stesso risultato ma meglio usare sempre i moduli standard."
   ]
  },
  {
   "cell_type": "markdown",
   "metadata": {},
   "source": [
    "Ogni nuovo modello implementato in PyTorch deve essere un modulo, è utile perchè possiamo mantenere tutti i parametri nell'oggetto, dare implementazioni di diversi modelli in maniera simile, e possiamo salvare e caricare modelli correttamente.\n",
    "\n",
    "Per definire un modulo ereditiamo la classe Module e implementiamo il costruttore, per specificare come bisogna costruire il modulo, e il metodo forward che specifica cosa fare quando il modulo viene chiamato"
   ]
  },
  {
   "cell_type": "markdown",
   "metadata": {},
   "source": [
    "Possiamo anche definire comportamenti diversi tra training e test, ciò può essere utile per far si che un regressore logistico restituisca le probabiità in fase di test e i logits in fase di training, _potendo usare una loss numericamente stabile (?)_"
   ]
  },
  {
   "cell_type": "code",
   "execution_count": 32,
   "metadata": {},
   "outputs": [],
   "source": [
    "class LinearRegressor(nn.Module):\n",
    "    def __init__(self, in_size, out_size):\n",
    "        \"\"\" Costruisce un regressore logistico\n",
    "            Input:\n",
    "                - in_size: numero di feature di input\n",
    "                - out_size: numero di elementi in output \"\"\"\n",
    "        \n",
    "        super(LinearRegressor, self).__init__() # Devo richiamare il costruttore della superclasse\n",
    "\n",
    "        self.linear = nn.Linear(in_size, out_size)\n",
    "\n",
    "    def forward(self, x):\n",
    "        \"\"\"Definisce come processare x\"\"\"\n",
    "        return self.linear(x)"
   ]
  },
  {
   "cell_type": "markdown",
   "metadata": {},
   "source": [
    "Con i moduli possiamo utilizzare caratteristiche automatiche come ottenere la lista dei parametri del modulo"
   ]
  },
  {
   "cell_type": "code",
   "execution_count": 33,
   "metadata": {},
   "outputs": [
    {
     "name": "stdout",
     "output_type": "stream",
     "text": [
      "[Parameter containing:\n",
      "tensor([[ 0.1109, -0.2135, -0.2508, -0.2333,  0.0270, -0.0753, -0.0312,  0.2009,\n",
      "          0.1694, -0.1469, -0.0047, -0.2152, -0.1842]], requires_grad=True), Parameter containing:\n",
      "tensor([-0.2486], requires_grad=True)]\n"
     ]
    }
   ],
   "source": [
    "reg = LinearRegressor(13,1)\n",
    "print(list(reg.parameters()))"
   ]
  },
  {
   "cell_type": "markdown",
   "metadata": {},
   "source": [
    "Viene semplificata anche l'algoritmo della discesa del gradiente, useremo il modulo più semplice ovvero SGD, prende in input la lista dei parametri da ottimizzare e il learning rate. \n",
    "\n",
    "I passaggi diventano:\n",
    "1. Costruire il modulo che implementa il modello\n",
    "2. Mettere il modello in modalità training\n",
    "3. Calcola la predizione del modello\n",
    "4. Calcola il valore della loss function\n",
    "5. Calcola il gradiente della loss function\n",
    "6. Aggiorna i pesi tramite l'optimizer\n",
    "7. Ripeti 4-7 fino a convergenza"
   ]
  },
  {
   "cell_type": "code",
   "execution_count": 34,
   "metadata": {},
   "outputs": [],
   "source": [
    "learning_rate = 0.1\n",
    "epochs = 100\n",
    "\n",
    "# Normalizziamo\n",
    "means = X_training.mean(0)\n",
    "stds = X_training.std(0)\n",
    "\n",
    "X_training_norm = (X_training-means)/stds\n",
    "X_testing_norm = (X_testing-means)/stds\n",
    "\n",
    "reg = LinearRegressor(13,1)\n",
    "criterion = nn.MSELoss() # Si chiama così perchè la loss è il criterio di ottimizzazione\n",
    "\n",
    "# L'optimizer vuole un riferimento ai parametri e il learning rate\n",
    "optimizer = torch.optim.SGD(reg.parameters(), lr=learning_rate)\n",
    "\n",
    "losses_train = []\n",
    "losses_test = []\n",
    "\n",
    "for e in range(epochs):\n",
    "    reg.train() # Entriamo in modalità training\n",
    "    output = reg(X_training_norm)\n",
    "    l = criterion(output.view(-1),Y_training)\n",
    "    losses_train.append(l.item())\n",
    "\n",
    "    l.backward()\n",
    "\n",
    "    optimizer.step()\n",
    "    optimizer.zero_grad()\n",
    "\n",
    "    # Calcoliamo la loss di test e mettiamo il modello in modalità validation\n",
    "    reg.eval()\n",
    "\n",
    "    with torch.set_grad_enabled(False):\n",
    "        y_test = reg(X_testing_norm)\n",
    "        l = criterion(y_test.view(-1), Y_testing)\n",
    "        losses_test.append(l.item())\n"
   ]
  },
  {
   "cell_type": "code",
   "execution_count": 35,
   "metadata": {},
   "outputs": [
    {
     "data": {
      "image/png": "[encoded data removed]",
      "text/plain": [
       "<Figure size 1200x800 with 1 Axes>"
      ]
     },
     "metadata": {},
     "output_type": "display_data"
    }
   ],
   "source": [
    "from matplotlib import pyplot as plt \n",
    "plt.figure(figsize=(12,8))\n",
    "plt.plot(losses_train)\n",
    "plt.plot(losses_test)\n",
    "plt.xlabel(\"Epochs\")\n",
    "plt.ylabel(\"Loss\")\n",
    "plt.grid()\n",
    "plt.legend([\"Training\",\"Testing\"])\n",
    "plt.show()"
   ]
  },
  {
   "cell_type": "markdown",
   "metadata": {},
   "source": [
    "# Monitoraggio procedura di training"
   ]
  },
  {
   "cell_type": "markdown",
   "metadata": {},
   "source": [
    "Abbiamo visto come il plot di training e test indichi quanto il tutto sia andato a buon fine, con modelli più complessi la procedura di training può durare anche ore. In questi casi è utile monitorare le loss durante la procedura. Per far ciò usiamo tensorboard, uno strumento per monitoraggio di training, pytorch la supporta nativamente. \n",
    "\n",
    "Ci servono:\n",
    "- La libreria tensorboard, tramite la quale possiamo scrivere file di log visualizzabili tramite software adatti\n",
    "- Il software tensorboard, ovvero un web server per la visualizzazione dei dati\n",
    "\n",
    "installiamo tensorboard tramite conda install tensorboard, creiamo una cartella logs e avviamo il software. Possiamo visualizzare la dashboard a http://localhost:6006/. "
   ]
  },
  {
   "cell_type": "code",
   "execution_count": 36,
   "metadata": {},
   "outputs": [
    {
     "name": "stdout",
     "output_type": "stream",
     "text": [
      "Requirement already satisfied: tensorboard in c:\\users\\simon\\appdata\\local\\programs\\python\\python311\\lib\\site-packages (2.19.0)\n",
      "Requirement already satisfied: absl-py>=0.4 in c:\\users\\simon\\appdata\\local\\programs\\python\\python311\\lib\\site-packages (from tensorboard) (2.2.2)\n",
      "Requirement already satisfied: grpcio>=1.48.2 in c:\\users\\simon\\appdata\\local\\programs\\python\\python311\\lib\\site-packages (from tensorboard) (1.71.0)\n",
      "Requirement already satisfied: markdown>=2.6.8 in c:\\users\\simon\\appdata\\local\\programs\\python\\python311\\lib\\site-packages (from tensorboard) (3.7)\n",
      "Requirement already satisfied: numpy>=1.12.0 in c:\\users\\simon\\appdata\\local\\programs\\python\\python311\\lib\\site-packages (from tensorboard) (2.2.4)\n",
      "Requirement already satisfied: packaging in c:\\users\\simon\\appdata\\roaming\\python\\python311\\site-packages (from tensorboard) (24.2)\n",
      "Requirement already satisfied: protobuf!=4.24.0,>=3.19.6 in c:\\users\\simon\\appdata\\local\\programs\\python\\python311\\lib\\site-packages (from tensorboard) (6.30.2)\n",
      "Requirement already satisfied: setuptools>=41.0.0 in c:\\users\\simon\\appdata\\local\\programs\\python\\python311\\lib\\site-packages (from tensorboard) (65.5.0)\n",
      "Requirement already satisfied: six>1.9 in c:\\users\\simon\\appdata\\roaming\\python\\python311\\site-packages (from tensorboard) (1.17.0)\n",
      "Requirement already satisfied: tensorboard-data-server<0.8.0,>=0.7.0 in c:\\users\\simon\\appdata\\local\\programs\\python\\python311\\lib\\site-packages (from tensorboard) (0.7.2)\n",
      "Requirement already satisfied: werkzeug>=1.0.1 in c:\\users\\simon\\appdata\\local\\programs\\python\\python311\\lib\\site-packages (from tensorboard) (3.1.3)\n",
      "Requirement already satisfied: MarkupSafe>=2.1.1 in c:\\users\\simon\\appdata\\local\\programs\\python\\python311\\lib\\site-packages (from werkzeug>=1.0.1->tensorboard) (3.0.2)\n",
      "Note: you may need to restart the kernel to use updated packages.\n"
     ]
    },
    {
     "name": "stderr",
     "output_type": "stream",
     "text": [
      "\n",
      "[notice] A new release of pip available: 22.3 -> 25.0.1\n",
      "[notice] To update, run: python.exe -m pip install --upgrade pip\n"
     ]
    }
   ],
   "source": [
    "%pip install tensorboard"
   ]
  },
  {
   "cell_type": "code",
   "execution_count": 37,
   "metadata": {},
   "outputs": [
    {
     "name": "stderr",
     "output_type": "stream",
     "text": [
      "Sottodirectory o file logs gi� esistente.\n",
      "UsageError: Line magic function `%tensorboard` not found.\n"
     ]
    }
   ],
   "source": [
    "%mkdir logs\n",
    "%tensorboard --logdir logs"
   ]
  },
  {
   "cell_type": "code",
   "execution_count": null,
   "metadata": {},
   "outputs": [
    {
     "name": "stdout",
     "output_type": "stream",
     "text": [
      "Known TensorBoard instances:\n",
      "  - port 6006: logdir logs (started 0:09:19 ago; pid 33540)\n",
      "Selecting TensorBoard with logdir logs (started 0:09:19 ago; port 6006, pid 33540).\n"
     ]
    },
    {
     "data": {
      "text/html": [
       "\n",
       "      <iframe id=\"tensorboard-frame-838e981a5b344efd\" width=\"100%\" height=\"1000\" frameborder=\"0\">\n",
       "      </iframe>\n",
       "      <script>\n",
       "        (function() {\n",
       "          const frame = document.getElementById(\"tensorboard-frame-838e981a5b344efd\");\n",
       "          const url = new URL(\"http://localhost\");\n",
       "          const port = 6006;\n",
       "          if (port) {\n",
       "            url.port = port;\n",
       "          }\n",
       "          frame.src = url;\n",
       "        })();\n",
       "      </script>\n",
       "    "
      ],
      "text/plain": [
       "<IPython.core.display.HTML object>"
      ]
     },
     "metadata": {},
     "output_type": "display_data"
    }
   ],
   "source": [
    "from tensorboard import notebook\n",
    "notebook.list()  # per controllare se ci sono sessioni attive\n",
    "notebook.display(port=6006, height=1000)  # o un'altra porta se necessario\n"
   ]
  },
  {
   "cell_type": "code",
   "execution_count": 39,
   "metadata": {},
   "outputs": [],
   "source": [
    "from torch.utils.tensorboard import SummaryWriter\n",
    "writer = SummaryWriter('logs/test0')"
   ]
  },
  {
   "cell_type": "code",
   "execution_count": 40,
   "metadata": {},
   "outputs": [],
   "source": [
    "# Simuliamo un ciclo di training\n",
    "for gs in range(10):\n",
    "    writer.add_scalar('loss/train', np.sin(gs/5*3.14), global_step=gs)\n",
    "\n",
    "# Simuliamo un valore di test\n",
    "writer.add_scalar('loss/test', 1, global_step=gs)\n",
    "\n",
    "# Simuliamo un secondo ciclo di training\n",
    "for gs in range(10,20):\n",
    "    writer.add_scalar('loss/train', np.sin(gs/5*3.14), global_step=gs)\n",
    "\n",
    "# Simuliamo un secondo valore di test\n",
    "writer.add_scalar('loss/test', 0.5, global_step=gs)"
   ]
  },
  {
   "cell_type": "code",
   "execution_count": 41,
   "metadata": {},
   "outputs": [],
   "source": [
    "# Aggiungiamo altri punti al grafico\n",
    "\n",
    "# Simuliamo un ciclo di training\n",
    "for gs in range(20,30):\n",
    "    writer.add_scalar('loss/train', np.sin(gs/5*3.14), global_step=gs)\n",
    "\n",
    "# Simuliamo un valore di test\n",
    "writer.add_scalar('loss/test', 1, global_step=gs)\n",
    "\n",
    "# Simuliamo un secondo ciclo di training\n",
    "for gs in range(30,40):\n",
    "    writer.add_scalar('loss/train', np.sin(gs/5*3.14), global_step=gs)\n",
    "\n",
    "# Simuliamo un secondo valore di test\n",
    "writer.add_scalar('loss/test', 0.5, global_step=gs)"
   ]
  }
 ],
 "metadata": {
  "kernelspec": {
   "display_name": "Python 3",
   "language": "python",
   "name": "python3"
  },
  "language_info": {
   "codemirror_mode": {
    "name": "ipython",
    "version": 3
   },
   "file_extension": ".py",
   "mimetype": "text/x-python",
   "name": "python",
   "nbconvert_exporter": "python",
   "pygments_lexer": "ipython3",
   "version": "3.11.0"
  }
 },
 "nbformat": 4,
 "nbformat_minor": 2
}
